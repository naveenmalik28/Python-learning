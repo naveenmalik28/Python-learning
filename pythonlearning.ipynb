{
 "cells": [
  {
   "cell_type": "code",
   "execution_count": 1,
   "id": "1c9090ca",
   "metadata": {},
   "outputs": [
    {
     "name": "stdout",
     "output_type": "stream",
     "text": [
      "Hello Naveen!\n"
     ]
    }
   ],
   "source": [
    "#how to print\n",
    "print(\"Hello Naveen!\")"
   ]
  },
  {
   "cell_type": "code",
   "execution_count": 2,
   "id": "aa457843",
   "metadata": {},
   "outputs": [
    {
     "name": "stdout",
     "output_type": "stream",
     "text": [
      "Naveen Malik\n"
     ]
    }
   ],
   "source": [
    "#using Variable<=This is comment\n",
    "#a is variable and naveen malik string value\n",
    "#string values will come in double quoutes\"\" or single quotes''\n",
    "a = \"Naveen Malik\"\n",
    "print(a)"
   ]
  },
  {
   "cell_type": "code",
   "execution_count": 10,
   "id": "88414892",
   "metadata": {},
   "outputs": [
    {
     "name": "stdout",
     "output_type": "stream",
     "text": [
      "Add=> 16\n",
      "Sub=> 4\n",
      "naveen\n"
     ]
    }
   ],
   "source": [
    "#how to create variables\n",
    "#x,y and z are variables\n",
    "#Variables are containers for storing data values.\n",
    "x = 10  #int value\n",
    "y = 6   #int value\n",
    "s = \"naveen\" #string value\n",
    "z = x + y\n",
    "m = x - y\n",
    "print(\"Add=>\", z)\n",
    "print(\"Sub=>\", m)\n",
    "print(s)"
   ]
  },
  {
   "cell_type": "code",
   "execution_count": 18,
   "id": "61c9ffa4",
   "metadata": {},
   "outputs": [
    {
     "name": "stdout",
     "output_type": "stream",
     "text": [
      "3\n",
      "3\n",
      "3.0\n"
     ]
    }
   ],
   "source": [
    "#Variable names are case-sensitive\n",
    "# A, a are different variable\n",
    "A = str(3)\n",
    "B = int(3)\n",
    "C = float(3)\n",
    "print(A)\n",
    "print(B)\n",
    "print(C)"
   ]
  },
  {
   "cell_type": "code",
   "execution_count": 13,
   "id": "22377aa8",
   "metadata": {},
   "outputs": [
    {
     "name": "stdout",
     "output_type": "stream",
     "text": [
      "<class 'int'>\n",
      "<class 'str'>\n"
     ]
    }
   ],
   "source": [
    "# how to Get the Type\n",
    "X = 28\n",
    "S = \"malik\"\n",
    "print(type(X))\n",
    "print(type(S))"
   ]
  },
  {
   "cell_type": "code",
   "execution_count": 17,
   "id": "deab3c1d",
   "metadata": {},
   "outputs": [
    {
     "name": "stdout",
     "output_type": "stream",
     "text": [
      "This is multiple comment\n"
     ]
    }
   ],
   "source": [
    "\"\"\"\n",
    "Built-in Data Types\n",
    "Text Type: \tstr\n",
    "Numeric Types: \tint, float, complex\n",
    "Sequence Types: \tlist, tuple, range\n",
    "Mapping Type: \tdict\n",
    "Set Types: \tset, frozenset\n",
    "Boolean Type: \tbool\n",
    "Binary Types: \tbytes, bytearray, memoryview\n",
    "None Type: \tNoneType\n",
    "\"\"\"\n",
    "print(\"This is multiple comment\")"
   ]
  },
  {
   "cell_type": "code",
   "execution_count": 20,
   "id": "f94240d1",
   "metadata": {},
   "outputs": [
    {
     "name": "stdout",
     "output_type": "stream",
     "text": [
      "4\n",
      "4\n",
      "2\n"
     ]
    }
   ],
   "source": [
    "#Python casting\n",
    "#converts a variable's data type into another data type\n",
    "x = int(4)   # x will be 4\n",
    "y = int(4.8) # y will be 4\n",
    "z = int(\"2\") # z will be 2\n",
    "print(x)\n",
    "print(y)\n",
    "print(z)"
   ]
  },
  {
   "cell_type": "code",
   "execution_count": 28,
   "id": "e7462cd9",
   "metadata": {},
   "outputs": [
    {
     "name": "stdout",
     "output_type": "stream",
     "text": [
      "naveen malik\n",
      "a\n",
      "een \n",
      "k\n"
     ]
    }
   ],
   "source": [
    "#use of string\n",
    "#positions will be start from 0,1,2...n\n",
    "#You can return a range of characters by using the slice syntax(Slicing)\n",
    "stringName = \"naveen malik\"\n",
    "print(stringName)\n",
    "print(stringName[1]) #for finding the position using Slicing\n",
    "print(stringName[3:7]) #Square brackets can be used to access characters of the string(Slicing)\n",
    "print(stringName[-1])  #last position of string"
   ]
  },
  {
   "cell_type": "code",
   "execution_count": 25,
   "id": "9618bafa",
   "metadata": {},
   "outputs": [
    {
     "name": "stdout",
     "output_type": "stream",
     "text": [
      "12\n"
     ]
    }
   ],
   "source": [
    "#length of string\n",
    "print(len(stringName))"
   ]
  },
  {
   "cell_type": "code",
   "execution_count": 27,
   "id": "ca94bcbb",
   "metadata": {},
   "outputs": [
    {
     "name": "stdout",
     "output_type": "stream",
     "text": [
      "n\n",
      "a\n",
      "v\n",
      "e\n",
      "e\n",
      "n\n"
     ]
    }
   ],
   "source": [
    "#for loop of string\n",
    "#Looping Through a String\n",
    "for i in \"naveen\":\n",
    "    print(i)"
   ]
  },
  {
   "cell_type": "code",
   "execution_count": 29,
   "id": "7328986d",
   "metadata": {},
   "outputs": [
    {
     "name": "stdout",
     "output_type": "stream",
     "text": [
      "NAVEEN MALIK\n"
     ]
    }
   ],
   "source": [
    "#Upper Case\n",
    "print(stringName.upper())"
   ]
  },
  {
   "cell_type": "code",
   "execution_count": 30,
   "id": "8e1f7b6b",
   "metadata": {},
   "outputs": [
    {
     "name": "stdout",
     "output_type": "stream",
     "text": [
      "naveen malik\n"
     ]
    }
   ],
   "source": [
    "#lower Case\n",
    "print(stringName.lower())"
   ]
  },
  {
   "cell_type": "code",
   "execution_count": 31,
   "id": "6ce268cd",
   "metadata": {},
   "outputs": [
    {
     "name": "stdout",
     "output_type": "stream",
     "text": [
      "Hello Naveen\n"
     ]
    }
   ],
   "source": [
    "#Remove Whitespace\n",
    "space_remove = \" Hello Naveen \"\n",
    "print(space_remove.strip())"
   ]
  },
  {
   "cell_type": "code",
   "execution_count": 32,
   "id": "e5d051e2",
   "metadata": {},
   "outputs": [
    {
     "name": "stdout",
     "output_type": "stream",
     "text": [
      "navin\n"
     ]
    }
   ],
   "source": [
    "#Replace String\n",
    "replace_string = \"naveen\"\n",
    "print(replace_string.replace(\"ee\",\"i\"))"
   ]
  },
  {
   "cell_type": "code",
   "execution_count": 38,
   "id": "f8f63060",
   "metadata": {},
   "outputs": [
    {
     "name": "stdout",
     "output_type": "stream",
     "text": [
      "['naveen', 'malik']\n",
      "['n', 'veen m', 'lik']\n",
      "['nav', '', 'n malik']\n"
     ]
    }
   ],
   "source": [
    "#Split String\n",
    "d = \"naveen malik\"\n",
    "print(d.split())\n",
    "print(d.split(\"a\"))\n",
    "print(d.split(\"e\"))"
   ]
  },
  {
   "cell_type": "code",
   "execution_count": 39,
   "id": "ddafbf30",
   "metadata": {},
   "outputs": [
    {
     "name": "stdout",
     "output_type": "stream",
     "text": [
      "naveenmalik\n"
     ]
    }
   ],
   "source": [
    "#String Concatenation\n",
    "x = \"naveen\"\n",
    "y = \"malik\"\n",
    "concate = x + y\n",
    "print(concate)"
   ]
  },
  {
   "cell_type": "code",
   "execution_count": 2,
   "id": "51f871b1",
   "metadata": {},
   "outputs": [
    {
     "name": "stdout",
     "output_type": "stream",
     "text": [
      "naveen malik\n"
     ]
    }
   ],
   "source": [
    "x = \"naveen\"\n",
    "y = \"malik\"\n",
    "con = x + \" \" + y #for adding space\n",
    "print(con)"
   ]
  },
  {
   "cell_type": "code",
   "execution_count": 16,
   "id": "c3632015",
   "metadata": {},
   "outputs": [
    {
     "name": "stdout",
     "output_type": "stream",
     "text": [
      "[10, 20, 50, 'naveen', 100, 'malik']\n"
     ]
    }
   ],
   "source": [
    "#PythonLists\n",
    "#List_items are ordered, changeable, and allow duplicate values\n",
    "list1 = [10, 20, 50, \"naveen\", 100, \"malik\"]\n",
    "print(list1)"
   ]
  },
  {
   "cell_type": "code",
   "execution_count": 8,
   "id": "4b66dc21",
   "metadata": {},
   "outputs": [
    {
     "name": "stdout",
     "output_type": "stream",
     "text": [
      "[10, 500, 100, 200]\n"
     ]
    }
   ],
   "source": [
    "#reverseList\n",
    "list2 = [200, 100, 500, 10]\n",
    "list2.reverse()\n",
    "print(list2)"
   ]
  },
  {
   "cell_type": "code",
   "execution_count": 9,
   "id": "317a793d",
   "metadata": {},
   "outputs": [
    {
     "name": "stdout",
     "output_type": "stream",
     "text": [
      "6\n",
      "4\n"
     ]
    }
   ],
   "source": [
    "#length of list\n",
    "print(len(list1))\n",
    "print(len(list2))"
   ]
  },
  {
   "cell_type": "code",
   "execution_count": 10,
   "id": "d1687d48",
   "metadata": {},
   "outputs": [
    {
     "name": "stdout",
     "output_type": "stream",
     "text": [
      "<class 'list'>\n",
      "<class 'list'>\n"
     ]
    }
   ],
   "source": [
    "print(type(list1))\n",
    "print(type(list2))"
   ]
  },
  {
   "cell_type": "code",
   "execution_count": 12,
   "id": "b632986a",
   "metadata": {},
   "outputs": [
    {
     "name": "stdout",
     "output_type": "stream",
     "text": [
      "100\n",
      "['naveen', 50]\n"
     ]
    }
   ],
   "source": [
    "#AccessListItems\n",
    "print(list1[1])\n",
    "print(list1[2:4])"
   ]
  },
  {
   "cell_type": "code",
   "execution_count": 14,
   "id": "03a096bb",
   "metadata": {},
   "outputs": [
    {
     "name": "stdout",
     "output_type": "stream",
     "text": [
      "10\n"
     ]
    }
   ],
   "source": [
    "print(list1[-1])"
   ]
  },
  {
   "cell_type": "code",
   "execution_count": 18,
   "id": "7204dfd7",
   "metadata": {},
   "outputs": [],
   "source": [
    "#list1 = [10, 20, 50, \"naveen\", 100, \"malik\"]"
   ]
  },
  {
   "cell_type": "code",
   "execution_count": 17,
   "id": "ea340be2",
   "metadata": {},
   "outputs": [
    {
     "name": "stdout",
     "output_type": "stream",
     "text": [
      "['malik', 100, 'naveen', 50, 20, 10]\n"
     ]
    }
   ],
   "source": [
    "print(list1[::-1])"
   ]
  },
  {
   "cell_type": "code",
   "execution_count": 20,
   "id": "b8a6af48",
   "metadata": {},
   "outputs": [
    {
     "name": "stdout",
     "output_type": "stream",
     "text": [
      "[10, 101, 50, 'naveen', 100, 'malik']\n"
     ]
    }
   ],
   "source": [
    "#adding new element\n",
    "list1[1] = 101 #at the position of 1\n",
    "print(list1)"
   ]
  },
  {
   "cell_type": "code",
   "execution_count": 21,
   "id": "19dd7f35",
   "metadata": {},
   "outputs": [
    {
     "name": "stdout",
     "output_type": "stream",
     "text": [
      "[10, 101, 50, 'naveen', 100, 'malik', 'gurugram']\n"
     ]
    }
   ],
   "source": [
    "list1.append(\"gurugram\") #adding element at the last position using append() fn\n",
    "print(list1)"
   ]
  },
  {
   "cell_type": "code",
   "execution_count": 22,
   "id": "a356548d",
   "metadata": {},
   "outputs": [
    {
     "name": "stdout",
     "output_type": "stream",
     "text": [
      "[10, 101, 50, 'naveen', 100, 'malik']\n"
     ]
    }
   ],
   "source": [
    "#using pop() fn we can remove element from the last position or mentioniong the element\n",
    "list1.pop()\n",
    "print(list1)"
   ]
  },
  {
   "cell_type": "code",
   "execution_count": 23,
   "id": "33907cf9",
   "metadata": {},
   "outputs": [
    {
     "name": "stdout",
     "output_type": "stream",
     "text": [
      "[1, 2, 3, 4, 5, 6]\n"
     ]
    }
   ],
   "source": [
    "#add the elements of the iterable at the end of the current list as list elements use extend() fn\n",
    "list_1 = [1, 2, 3]\n",
    "list_2 = [4, 5, 6]\n",
    "list_1.extend(list_2)\n",
    "print(list_1)"
   ]
  },
  {
   "cell_type": "code",
   "execution_count": 1,
   "id": "705c96f5",
   "metadata": {},
   "outputs": [
    {
     "name": "stdout",
     "output_type": "stream",
     "text": [
      "('naveen', 28, 'malik', 9, 3, 29)\n"
     ]
    }
   ],
   "source": [
    "mytuple = (\"naveen\", 28, \"malik\", 9, 3, 29)\n",
    "print(mytuple)"
   ]
  },
  {
   "cell_type": "code",
   "execution_count": 3,
   "id": "e17cce62",
   "metadata": {},
   "outputs": [
    {
     "name": "stdout",
     "output_type": "stream",
     "text": [
      "(29, 3, 9, 'malik', 28, 'naveen')\n"
     ]
    }
   ],
   "source": [
    "print(mytuple[::-1])   #reverse tuple "
   ]
  },
  {
   "cell_type": "code",
   "execution_count": 1,
   "id": "4a044268",
   "metadata": {},
   "outputs": [
    {
     "name": "stdout",
     "output_type": "stream",
     "text": [
      "[28, 'naveen', 'ashish', 30]\n"
     ]
    }
   ],
   "source": [
    "#convert tuple into list\n",
    "mytuple = (28, \"naveen\", \"ashish\", 30)\n",
    "mylist = list(mytuple)\n",
    "print(mylist)"
   ]
  },
  {
   "cell_type": "code",
   "execution_count": 3,
   "id": "68a4dacf",
   "metadata": {},
   "outputs": [
    {
     "name": "stdout",
     "output_type": "stream",
     "text": [
      "[28, 25, 'ashish', 30]\n"
     ]
    }
   ],
   "source": [
    "mylist[1] = 25\n",
    "print(mylist)"
   ]
  },
  {
   "cell_type": "code",
   "execution_count": 6,
   "id": "3fb3ba22",
   "metadata": {},
   "outputs": [
    {
     "name": "stdout",
     "output_type": "stream",
     "text": [
      "(28, 25, 'ashish', 30, 'naveen')\n"
     ]
    }
   ],
   "source": [
    "mytuple = tuple(mylist)\n",
    "print(mytuple)"
   ]
  },
  {
   "cell_type": "code",
   "execution_count": 7,
   "id": "c70911ab",
   "metadata": {},
   "outputs": [
    {
     "name": "stdout",
     "output_type": "stream",
     "text": [
      "(25, 'ashish')\n"
     ]
    }
   ],
   "source": [
    "t = mytuple[1:3]\n",
    "print(t)"
   ]
  },
  {
   "cell_type": "code",
   "execution_count": 8,
   "id": "e61fc0a4",
   "metadata": {},
   "outputs": [
    {
     "name": "stdout",
     "output_type": "stream",
     "text": [
      "Yes, naveen is present in tuple\n"
     ]
    }
   ],
   "source": [
    "if 'naveen' in mytuple:\n",
    "    print(\"Yes, naveen is present in tuple\")\n",
    "else:\n",
    "    print(\"Not present\")"
   ]
  },
  {
   "cell_type": "code",
   "execution_count": 1,
   "id": "0a9531cf",
   "metadata": {},
   "outputs": [
    {
     "name": "stdout",
     "output_type": "stream",
     "text": [
      "('n', 'a', 'v', 'e', 'e', 'n')\n"
     ]
    }
   ],
   "source": [
    "name = \"naveen\"\n",
    "tuple_name = tuple(name)\n",
    "print(tuple_name)"
   ]
  },
  {
   "cell_type": "code",
   "execution_count": 3,
   "id": "427f5460",
   "metadata": {},
   "outputs": [
    {
     "name": "stdout",
     "output_type": "stream",
     "text": [
      "('n', 'a', 'v')\n"
     ]
    }
   ],
   "source": [
    "print(tuple_name[0:3]) #access tuple element using index "
   ]
  },
  {
   "cell_type": "code",
   "execution_count": 5,
   "id": "49f22d5b",
   "metadata": {},
   "outputs": [
    {
     "name": "stdout",
     "output_type": "stream",
     "text": [
      "('n', 'e', 'e', 'v', 'a', 'n')\n"
     ]
    }
   ],
   "source": [
    "print(tuple_name[::-1]) #reversing of tuple element"
   ]
  },
  {
   "cell_type": "code",
   "execution_count": 1,
   "id": "5ba40d78",
   "metadata": {},
   "outputs": [
    {
     "name": "stdout",
     "output_type": "stream",
     "text": [
      "The sum of list items: 122\n",
      "Not valid\n"
     ]
    }
   ],
   "source": [
    "#adding of list items\n",
    "list1 = [12, 34, 28, 29, 9, 10]\n",
    "add = 0\n",
    "for i in list1:\n",
    "    add += i\n",
    "print(\"The sum of list items:\", add)\n",
    "if add>150:\n",
    "    print(\"Valid\")\n",
    "else:\n",
    "    print(\"Not valid\")"
   ]
  },
  {
   "cell_type": "code",
   "execution_count": 3,
   "id": "5f07a4c7",
   "metadata": {},
   "outputs": [
    {
     "name": "stdout",
     "output_type": "stream",
     "text": [
      "<class 'dict'>\n",
      "{'name': 'Naveen Malik', 'id': 28, 'city': 'Sonipat', 'phone': 123445}\n"
     ]
    }
   ],
   "source": [
    "#dictionary\n",
    "dict1 = {\n",
    "    \"name\" : \"Naveen Malik\",\n",
    "    \"id\" : 28,\n",
    "    \"city\" : \"Sonipat\",\n",
    "    \"phone\" : 123445\n",
    "}\n",
    "print(type(dict1))\n",
    "print(dict1)"
   ]
  },
  {
   "cell_type": "code",
   "execution_count": 14,
   "id": "05f41eac",
   "metadata": {},
   "outputs": [
    {
     "name": "stdout",
     "output_type": "stream",
     "text": [
      "Naveen Malik\n"
     ]
    }
   ],
   "source": [
    "print(dict1[\"name\"])"
   ]
  },
  {
   "cell_type": "code",
   "execution_count": 16,
   "id": "942e345f",
   "metadata": {},
   "outputs": [
    {
     "name": "stdout",
     "output_type": "stream",
     "text": [
      "{'name': 'Naveen Malik', 'id': 28, 'city': 'Sonipat', 'phone': 123445, 'post': 'developer'}\n"
     ]
    }
   ],
   "source": [
    "#add new key value\n",
    "dict1[\"post\"] = \"developer\"\n",
    "print(dict1)"
   ]
  },
  {
   "cell_type": "code",
   "execution_count": 2,
   "metadata": {},
   "outputs": [
    {
     "name": "stdout",
     "output_type": "stream",
     "text": [
      "<class 'set'>\n",
      "{'sonipat', 'malik', 'gurugram', 'naveen'}\n"
     ]
    }
   ],
   "source": [
    "myset = {\"naveen\", \"malik\", \"sonipat\", \"gurugram\"}\n",
    "print(type(myset))\n",
    "print(myset)"
   ]
  },
  {
   "cell_type": "code",
   "execution_count": null,
   "metadata": {},
   "outputs": [],
   "source": []
  }
 ],
 "metadata": {
  "kernelspec": {
   "display_name": "Python 3 (ipykernel)",
   "language": "python",
   "name": "python3"
  },
  "language_info": {
   "codemirror_mode": {
    "name": "ipython",
    "version": 3
   },
   "file_extension": ".py",
   "mimetype": "text/x-python",
   "name": "python",
   "nbconvert_exporter": "python",
   "pygments_lexer": "ipython3",
   "version": "3.11.5"
  }
 },
 "nbformat": 4,
 "nbformat_minor": 5
}
